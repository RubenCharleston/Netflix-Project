{
 "cells": [
  {
   "cell_type": "code",
   "execution_count": 1,
   "id": "8c14f94b",
   "metadata": {},
   "outputs": [],
   "source": [
    "import pandas as pd\n",
    "df = pd.read_csv('ViewingActivity.csv')"
   ]
  },
  {
   "cell_type": "code",
   "execution_count": 2,
   "id": "c254ca8d",
   "metadata": {},
   "outputs": [
    {
     "data": {
      "text/plain": [
       "(23870, 10)"
      ]
     },
     "execution_count": 2,
     "metadata": {},
     "output_type": "execute_result"
    }
   ],
   "source": [
    "df.shape"
   ]
  },
  {
   "cell_type": "code",
   "execution_count": 3,
   "id": "d9b3029d",
   "metadata": {},
   "outputs": [
    {
     "data": {
      "text/html": [
       "<div>\n",
       "<style scoped>\n",
       "    .dataframe tbody tr th:only-of-type {\n",
       "        vertical-align: middle;\n",
       "    }\n",
       "\n",
       "    .dataframe tbody tr th {\n",
       "        vertical-align: top;\n",
       "    }\n",
       "\n",
       "    .dataframe thead th {\n",
       "        text-align: right;\n",
       "    }\n",
       "</style>\n",
       "<table border=\"1\" class=\"dataframe\">\n",
       "  <thead>\n",
       "    <tr style=\"text-align: right;\">\n",
       "      <th></th>\n",
       "      <th>Profile Name</th>\n",
       "      <th>Start Time</th>\n",
       "      <th>Duration</th>\n",
       "      <th>Attributes</th>\n",
       "      <th>Title</th>\n",
       "      <th>Supplemental Video Type</th>\n",
       "      <th>Device Type</th>\n",
       "      <th>Bookmark</th>\n",
       "      <th>Latest Bookmark</th>\n",
       "      <th>Country</th>\n",
       "    </tr>\n",
       "  </thead>\n",
       "  <tbody>\n",
       "    <tr>\n",
       "      <th>0</th>\n",
       "      <td>Alz</td>\n",
       "      <td>2024-10-07 00:42:43</td>\n",
       "      <td>00:24:18</td>\n",
       "      <td>NaN</td>\n",
       "      <td>Apolo 13: Supervivencia</td>\n",
       "      <td>NaN</td>\n",
       "      <td>Samsung 2017 Kant-M UHD TV Smart TV</td>\n",
       "      <td>00:24:18</td>\n",
       "      <td>00:24:18</td>\n",
       "      <td>MX (Mexico)</td>\n",
       "    </tr>\n",
       "    <tr>\n",
       "      <th>1</th>\n",
       "      <td>Alz</td>\n",
       "      <td>2024-10-07 00:03:07</td>\n",
       "      <td>00:37:09</td>\n",
       "      <td>Autoplayed: user action: User_Interaction;</td>\n",
       "      <td>Asesino: Misión venganza</td>\n",
       "      <td>NaN</td>\n",
       "      <td>Samsung 2017 Kant-M UHD TV Smart TV</td>\n",
       "      <td>01:43:58</td>\n",
       "      <td>01:43:58</td>\n",
       "      <td>MX (Mexico)</td>\n",
       "    </tr>\n",
       "    <tr>\n",
       "      <th>2</th>\n",
       "      <td>Alz</td>\n",
       "      <td>2024-09-29 21:54:46</td>\n",
       "      <td>00:50:42</td>\n",
       "      <td>Autoplayed: user action: User_Interaction;</td>\n",
       "      <td>Asesino: Misión venganza</td>\n",
       "      <td>NaN</td>\n",
       "      <td>Samsung 2017 Kant-M UHD TV Smart TV</td>\n",
       "      <td>01:07:37</td>\n",
       "      <td>Not latest view</td>\n",
       "      <td>MX (Mexico)</td>\n",
       "    </tr>\n",
       "    <tr>\n",
       "      <th>3</th>\n",
       "      <td>Alz</td>\n",
       "      <td>2024-09-29 19:18:13</td>\n",
       "      <td>00:22:33</td>\n",
       "      <td>Autoplayed: user action: User_Interaction;</td>\n",
       "      <td>Asesino: Misión venganza</td>\n",
       "      <td>NaN</td>\n",
       "      <td>Samsung 2017 Kant-M UHD TV Smart TV</td>\n",
       "      <td>00:22:27</td>\n",
       "      <td>Not latest view</td>\n",
       "      <td>MX (Mexico)</td>\n",
       "    </tr>\n",
       "    <tr>\n",
       "      <th>4</th>\n",
       "      <td>Alz</td>\n",
       "      <td>2024-08-31 16:01:49</td>\n",
       "      <td>01:40:18</td>\n",
       "      <td>Autoplayed: user action: User_Interaction;</td>\n",
       "      <td>El Sindicato</td>\n",
       "      <td>NaN</td>\n",
       "      <td>Samsung 2017 Kant-M UHD TV Smart TV</td>\n",
       "      <td>01:40:18</td>\n",
       "      <td>01:40:18</td>\n",
       "      <td>MX (Mexico)</td>\n",
       "    </tr>\n",
       "  </tbody>\n",
       "</table>\n",
       "</div>"
      ],
      "text/plain": [
       "  Profile Name           Start Time  Duration  \\\n",
       "0          Alz  2024-10-07 00:42:43  00:24:18   \n",
       "1          Alz  2024-10-07 00:03:07  00:37:09   \n",
       "2          Alz  2024-09-29 21:54:46  00:50:42   \n",
       "3          Alz  2024-09-29 19:18:13  00:22:33   \n",
       "4          Alz  2024-08-31 16:01:49  01:40:18   \n",
       "\n",
       "                                    Attributes                     Title  \\\n",
       "0                                          NaN   Apolo 13: Supervivencia   \n",
       "1  Autoplayed: user action: User_Interaction;   Asesino: Misión venganza   \n",
       "2  Autoplayed: user action: User_Interaction;   Asesino: Misión venganza   \n",
       "3  Autoplayed: user action: User_Interaction;   Asesino: Misión venganza   \n",
       "4  Autoplayed: user action: User_Interaction;               El Sindicato   \n",
       "\n",
       "  Supplemental Video Type                          Device Type  Bookmark  \\\n",
       "0                     NaN  Samsung 2017 Kant-M UHD TV Smart TV  00:24:18   \n",
       "1                     NaN  Samsung 2017 Kant-M UHD TV Smart TV  01:43:58   \n",
       "2                     NaN  Samsung 2017 Kant-M UHD TV Smart TV  01:07:37   \n",
       "3                     NaN  Samsung 2017 Kant-M UHD TV Smart TV  00:22:27   \n",
       "4                     NaN  Samsung 2017 Kant-M UHD TV Smart TV  01:40:18   \n",
       "\n",
       "   Latest Bookmark      Country  \n",
       "0         00:24:18  MX (Mexico)  \n",
       "1         01:43:58  MX (Mexico)  \n",
       "2  Not latest view  MX (Mexico)  \n",
       "3  Not latest view  MX (Mexico)  \n",
       "4         01:40:18  MX (Mexico)  "
      ]
     },
     "execution_count": 3,
     "metadata": {},
     "output_type": "execute_result"
    }
   ],
   "source": [
    "df.head()"
   ]
  },
  {
   "cell_type": "code",
   "execution_count": 4,
   "id": "7b259070",
   "metadata": {},
   "outputs": [
    {
     "data": {
      "text/html": [
       "<div>\n",
       "<style scoped>\n",
       "    .dataframe tbody tr th:only-of-type {\n",
       "        vertical-align: middle;\n",
       "    }\n",
       "\n",
       "    .dataframe tbody tr th {\n",
       "        vertical-align: top;\n",
       "    }\n",
       "\n",
       "    .dataframe thead th {\n",
       "        text-align: right;\n",
       "    }\n",
       "</style>\n",
       "<table border=\"1\" class=\"dataframe\">\n",
       "  <thead>\n",
       "    <tr style=\"text-align: right;\">\n",
       "      <th></th>\n",
       "      <th>Profile Name</th>\n",
       "      <th>Start Time</th>\n",
       "      <th>Duration</th>\n",
       "      <th>Attributes</th>\n",
       "      <th>Title</th>\n",
       "      <th>Supplemental Video Type</th>\n",
       "      <th>Device Type</th>\n",
       "      <th>Bookmark</th>\n",
       "      <th>Latest Bookmark</th>\n",
       "      <th>Country</th>\n",
       "    </tr>\n",
       "  </thead>\n",
       "  <tbody>\n",
       "    <tr>\n",
       "      <th>18137</th>\n",
       "      <td>La cacampeona</td>\n",
       "      <td>2021-09-27 22:45:13</td>\n",
       "      <td>00:13:22</td>\n",
       "      <td>Autoplayed: user action: User_Interaction;</td>\n",
       "      <td>Las chicas Gilmore: Temporada 4: Estruendo y c...</td>\n",
       "      <td>NaN</td>\n",
       "      <td>Samsung 2017 Kant-M UHD TV Smart TV</td>\n",
       "      <td>00:14:28</td>\n",
       "      <td>Not latest view</td>\n",
       "      <td>MX (Mexico)</td>\n",
       "    </tr>\n",
       "    <tr>\n",
       "      <th>20408</th>\n",
       "      <td>La cacampeona</td>\n",
       "      <td>2016-03-20 22:58:26</td>\n",
       "      <td>00:03:20</td>\n",
       "      <td>NaN</td>\n",
       "      <td>El señor de los Cielos: Temporada 1: Arranca l...</td>\n",
       "      <td>NaN</td>\n",
       "      <td>Microsoft Xbox 360</td>\n",
       "      <td>00:21:41</td>\n",
       "      <td>Not latest view</td>\n",
       "      <td>MX (Mexico)</td>\n",
       "    </tr>\n",
       "    <tr>\n",
       "      <th>14805</th>\n",
       "      <td>Heimer</td>\n",
       "      <td>2021-09-03 22:34:02</td>\n",
       "      <td>00:13:57</td>\n",
       "      <td>NaN</td>\n",
       "      <td>Chicas buenas: Temporada 4: Corazón fuerte, ve...</td>\n",
       "      <td>NaN</td>\n",
       "      <td>Samsung 2017 Kant-M UHD TV Smart TV</td>\n",
       "      <td>00:38:42</td>\n",
       "      <td>Not latest view</td>\n",
       "      <td>MX (Mexico)</td>\n",
       "    </tr>\n",
       "    <tr>\n",
       "      <th>18801</th>\n",
       "      <td>La cacampeona</td>\n",
       "      <td>2020-08-29 04:31:49</td>\n",
       "      <td>00:43:41</td>\n",
       "      <td>NaN</td>\n",
       "      <td>Bonusfamiljen: Temporada 1: Episodio 1 (Capítu...</td>\n",
       "      <td>NaN</td>\n",
       "      <td>Android DefaultWidevineL3Tablet Android Tablet</td>\n",
       "      <td>00:43:41</td>\n",
       "      <td>00:43:41</td>\n",
       "      <td>MX (Mexico)</td>\n",
       "    </tr>\n",
       "    <tr>\n",
       "      <th>15203</th>\n",
       "      <td>Heimer</td>\n",
       "      <td>2021-04-09 04:10:05</td>\n",
       "      <td>01:34:31</td>\n",
       "      <td>Autoplayed: user action: User_Interaction;</td>\n",
       "      <td>Solo di que sí</td>\n",
       "      <td>NaN</td>\n",
       "      <td>Samsung 2017 Kant-M UHD TV Smart TV</td>\n",
       "      <td>01:34:00</td>\n",
       "      <td>01:34:00</td>\n",
       "      <td>MX (Mexico)</td>\n",
       "    </tr>\n",
       "    <tr>\n",
       "      <th>21600</th>\n",
       "      <td>La poponcesa</td>\n",
       "      <td>2022-04-20 02:24:40</td>\n",
       "      <td>00:19:42</td>\n",
       "      <td>NaN</td>\n",
       "      <td>Yo soy Betty, la fea: Season 1: Episode 191</td>\n",
       "      <td>NaN</td>\n",
       "      <td>Samsung 2017 Kant-M UHD TV Smart TV</td>\n",
       "      <td>00:21:23</td>\n",
       "      <td>00:21:23</td>\n",
       "      <td>MX (Mexico)</td>\n",
       "    </tr>\n",
       "    <tr>\n",
       "      <th>1605</th>\n",
       "      <td>Alz</td>\n",
       "      <td>2018-05-15 20:27:55</td>\n",
       "      <td>00:00:19</td>\n",
       "      <td>NaN</td>\n",
       "      <td>Velvet: Temporada 3: Here's to the Bride and G...</td>\n",
       "      <td>NaN</td>\n",
       "      <td>Mobile</td>\n",
       "      <td>00:09:07</td>\n",
       "      <td>Not latest view</td>\n",
       "      <td>MX (Mexico)</td>\n",
       "    </tr>\n",
       "    <tr>\n",
       "      <th>18058</th>\n",
       "      <td>La cacampeona</td>\n",
       "      <td>2021-11-13 17:14:53</td>\n",
       "      <td>00:36:08</td>\n",
       "      <td>NaN</td>\n",
       "      <td>Las chicas Gilmore: Temporada 6: El regreso de...</td>\n",
       "      <td>NaN</td>\n",
       "      <td>Edge OSS - Windows (Cadmium)</td>\n",
       "      <td>00:43:10</td>\n",
       "      <td>00:43:10</td>\n",
       "      <td>MX (Mexico)</td>\n",
       "    </tr>\n",
       "    <tr>\n",
       "      <th>3477</th>\n",
       "      <td>Alz</td>\n",
       "      <td>2015-08-21 14:41:11</td>\n",
       "      <td>00:00:01</td>\n",
       "      <td>NaN</td>\n",
       "      <td>Dueños del paraíso: Temporada 1: La boda de Pa...</td>\n",
       "      <td>NaN</td>\n",
       "      <td>Microsoft Xbox 360</td>\n",
       "      <td>00:00:17</td>\n",
       "      <td>Not latest view</td>\n",
       "      <td>MX (Mexico)</td>\n",
       "    </tr>\n",
       "    <tr>\n",
       "      <th>12755</th>\n",
       "      <td>El cacas</td>\n",
       "      <td>2015-02-12 04:22:50</td>\n",
       "      <td>00:06:13</td>\n",
       "      <td>NaN</td>\n",
       "      <td>Pan Am: Temporada 1: Piloto (Capítulo 1)</td>\n",
       "      <td>NaN</td>\n",
       "      <td>Mobile</td>\n",
       "      <td>00:06:13</td>\n",
       "      <td>Not latest view</td>\n",
       "      <td>MX (Mexico)</td>\n",
       "    </tr>\n",
       "  </tbody>\n",
       "</table>\n",
       "</div>"
      ],
      "text/plain": [
       "        Profile Name           Start Time  Duration  \\\n",
       "18137  La cacampeona  2021-09-27 22:45:13  00:13:22   \n",
       "20408  La cacampeona  2016-03-20 22:58:26  00:03:20   \n",
       "14805         Heimer  2021-09-03 22:34:02  00:13:57   \n",
       "18801  La cacampeona  2020-08-29 04:31:49  00:43:41   \n",
       "15203         Heimer  2021-04-09 04:10:05  01:34:31   \n",
       "21600   La poponcesa  2022-04-20 02:24:40  00:19:42   \n",
       "1605             Alz  2018-05-15 20:27:55  00:00:19   \n",
       "18058  La cacampeona  2021-11-13 17:14:53  00:36:08   \n",
       "3477             Alz  2015-08-21 14:41:11  00:00:01   \n",
       "12755       El cacas  2015-02-12 04:22:50  00:06:13   \n",
       "\n",
       "                                        Attributes  \\\n",
       "18137  Autoplayed: user action: User_Interaction;    \n",
       "20408                                          NaN   \n",
       "14805                                          NaN   \n",
       "18801                                          NaN   \n",
       "15203  Autoplayed: user action: User_Interaction;    \n",
       "21600                                          NaN   \n",
       "1605                                           NaN   \n",
       "18058                                          NaN   \n",
       "3477                                           NaN   \n",
       "12755                                          NaN   \n",
       "\n",
       "                                                   Title  \\\n",
       "18137  Las chicas Gilmore: Temporada 4: Estruendo y c...   \n",
       "20408  El señor de los Cielos: Temporada 1: Arranca l...   \n",
       "14805  Chicas buenas: Temporada 4: Corazón fuerte, ve...   \n",
       "18801  Bonusfamiljen: Temporada 1: Episodio 1 (Capítu...   \n",
       "15203                                     Solo di que sí   \n",
       "21600        Yo soy Betty, la fea: Season 1: Episode 191   \n",
       "1605   Velvet: Temporada 3: Here's to the Bride and G...   \n",
       "18058  Las chicas Gilmore: Temporada 6: El regreso de...   \n",
       "3477   Dueños del paraíso: Temporada 1: La boda de Pa...   \n",
       "12755           Pan Am: Temporada 1: Piloto (Capítulo 1)   \n",
       "\n",
       "      Supplemental Video Type                                     Device Type  \\\n",
       "18137                     NaN             Samsung 2017 Kant-M UHD TV Smart TV   \n",
       "20408                     NaN                              Microsoft Xbox 360   \n",
       "14805                     NaN             Samsung 2017 Kant-M UHD TV Smart TV   \n",
       "18801                     NaN  Android DefaultWidevineL3Tablet Android Tablet   \n",
       "15203                     NaN             Samsung 2017 Kant-M UHD TV Smart TV   \n",
       "21600                     NaN             Samsung 2017 Kant-M UHD TV Smart TV   \n",
       "1605                      NaN                                          Mobile   \n",
       "18058                     NaN                    Edge OSS - Windows (Cadmium)   \n",
       "3477                      NaN                              Microsoft Xbox 360   \n",
       "12755                     NaN                                          Mobile   \n",
       "\n",
       "       Bookmark  Latest Bookmark      Country  \n",
       "18137  00:14:28  Not latest view  MX (Mexico)  \n",
       "20408  00:21:41  Not latest view  MX (Mexico)  \n",
       "14805  00:38:42  Not latest view  MX (Mexico)  \n",
       "18801  00:43:41         00:43:41  MX (Mexico)  \n",
       "15203  01:34:00         01:34:00  MX (Mexico)  \n",
       "21600  00:21:23         00:21:23  MX (Mexico)  \n",
       "1605   00:09:07  Not latest view  MX (Mexico)  \n",
       "18058  00:43:10         00:43:10  MX (Mexico)  \n",
       "3477   00:00:17  Not latest view  MX (Mexico)  \n",
       "12755  00:06:13  Not latest view  MX (Mexico)  "
      ]
     },
     "execution_count": 4,
     "metadata": {},
     "output_type": "execute_result"
    }
   ],
   "source": [
    "df.sample(n=10)"
   ]
  },
  {
   "cell_type": "code",
   "execution_count": 5,
   "id": "3a80680c",
   "metadata": {},
   "outputs": [
    {
     "data": {
      "text/plain": [
       "array(['Alz', 'El cacas', 'Heimer', 'La cacampeona', 'La poponcesa'],\n",
       "      dtype=object)"
      ]
     },
     "execution_count": 5,
     "metadata": {},
     "output_type": "execute_result"
    }
   ],
   "source": [
    "df[\"Profile Name\"].unique()"
   ]
  },
  {
   "cell_type": "code",
   "execution_count": 6,
   "id": "292327aa",
   "metadata": {},
   "outputs": [
    {
     "data": {
      "text/plain": [
       "array(['Samsung 2017 Kant-M UHD TV Smart TV',\n",
       "       'LG 2019 RTK K5Lp Standard UHD TV Smart TV', 'Apple iPhone XS',\n",
       "       'Android DefaultWidevineL3Phone Android Phone',\n",
       "       'Android DefaultWidevineL3Tablet Android Tablet', 'Mobile',\n",
       "       'LG 2015 MTK 8553 BD', 'Google Chromecast V3 Streaming Stick',\n",
       "       'Microsoft Xbox 360', 'Chrome PC (Cadmium)',\n",
       "       'DefaultWidevineAndroidTablets', 'DefaultWidevineAndroidPhone',\n",
       "       'Samsung 2013 MStar X12 Smart TV',\n",
       "       'Netflix Windows App - Cadmium Windows Mobile',\n",
       "       'Samsung CE 2020 Kant-S2 DTV Smart TV',\n",
       "       'Edge OSS - Windows (Cadmium)', 'Edge (Cadmium)',\n",
       "       '2013 Sony BD players AX Series',\n",
       "       'Android DefaultWidevineL3Phone Android Phone (samsung_SM-G532M)',\n",
       "       'iPhone 5S GSM', 'PC', 'Sony PS4'], dtype=object)"
      ]
     },
     "execution_count": 6,
     "metadata": {},
     "output_type": "execute_result"
    }
   ],
   "source": [
    "df[\"Device Type\"].unique()"
   ]
  },
  {
   "cell_type": "code",
   "execution_count": 7,
   "id": "1a320131",
   "metadata": {},
   "outputs": [
    {
     "data": {
      "text/plain": [
       "Profile Name               object\n",
       "Start Time                 object\n",
       "Duration                   object\n",
       "Attributes                 object\n",
       "Title                      object\n",
       "Supplemental Video Type    object\n",
       "Device Type                object\n",
       "Bookmark                   object\n",
       "Latest Bookmark            object\n",
       "Country                    object\n",
       "dtype: object"
      ]
     },
     "execution_count": 7,
     "metadata": {},
     "output_type": "execute_result"
    }
   ],
   "source": [
    "df.dtypes"
   ]
  },
  {
   "cell_type": "code",
   "execution_count": 8,
   "id": "bc399c7e",
   "metadata": {},
   "outputs": [],
   "source": [
    "df['Start Time'] = pd.to_datetime(df['Start Time'], utc = True)"
   ]
  },
  {
   "cell_type": "code",
   "execution_count": 9,
   "id": "9bf5935e",
   "metadata": {},
   "outputs": [],
   "source": [
    "df['Duration'] = pd.to_timedelta(df['Duration'])"
   ]
  },
  {
   "cell_type": "code",
   "execution_count": 10,
   "id": "8e5fa349",
   "metadata": {},
   "outputs": [
    {
     "data": {
      "text/plain": [
       "Profile Name                            object\n",
       "Start Time                 datetime64[ns, UTC]\n",
       "Duration                       timedelta64[ns]\n",
       "Attributes                              object\n",
       "Title                                   object\n",
       "Supplemental Video Type                 object\n",
       "Device Type                             object\n",
       "Bookmark                                object\n",
       "Latest Bookmark                         object\n",
       "Country                                 object\n",
       "dtype: object"
      ]
     },
     "execution_count": 10,
     "metadata": {},
     "output_type": "execute_result"
    }
   ],
   "source": [
    "df.dtypes"
   ]
  },
  {
   "cell_type": "code",
   "execution_count": 11,
   "id": "83b2f6af",
   "metadata": {},
   "outputs": [
    {
     "data": {
      "text/html": [
       "<div>\n",
       "<style scoped>\n",
       "    .dataframe tbody tr th:only-of-type {\n",
       "        vertical-align: middle;\n",
       "    }\n",
       "\n",
       "    .dataframe tbody tr th {\n",
       "        vertical-align: top;\n",
       "    }\n",
       "\n",
       "    .dataframe thead th {\n",
       "        text-align: right;\n",
       "    }\n",
       "</style>\n",
       "<table border=\"1\" class=\"dataframe\">\n",
       "  <thead>\n",
       "    <tr style=\"text-align: right;\">\n",
       "      <th></th>\n",
       "      <th>Profile Name</th>\n",
       "      <th>Start Time</th>\n",
       "      <th>Duration</th>\n",
       "      <th>Attributes</th>\n",
       "      <th>Title</th>\n",
       "      <th>Supplemental Video Type</th>\n",
       "      <th>Device Type</th>\n",
       "      <th>Bookmark</th>\n",
       "      <th>Latest Bookmark</th>\n",
       "      <th>Country</th>\n",
       "    </tr>\n",
       "  </thead>\n",
       "  <tbody>\n",
       "    <tr>\n",
       "      <th>5007</th>\n",
       "      <td>El cacas</td>\n",
       "      <td>2023-08-13 18:04:21+00:00</td>\n",
       "      <td>0 days 00:00:09</td>\n",
       "      <td>Autoplayed: user action: None;</td>\n",
       "      <td>Source Code_hook_primary_16x9</td>\n",
       "      <td>HOOK</td>\n",
       "      <td>Chrome PC (Cadmium)</td>\n",
       "      <td>00:00:09</td>\n",
       "      <td>Not latest view</td>\n",
       "      <td>IE (Ireland)</td>\n",
       "    </tr>\n",
       "    <tr>\n",
       "      <th>16046</th>\n",
       "      <td>Heimer</td>\n",
       "      <td>2020-09-10 03:12:37+00:00</td>\n",
       "      <td>0 days 00:00:25</td>\n",
       "      <td>Autoplayed: user action: Unspecified;</td>\n",
       "      <td>Orgullo y prejuicio</td>\n",
       "      <td>NaN</td>\n",
       "      <td>Samsung 2017 Kant-M UHD TV Smart TV</td>\n",
       "      <td>00:00:25</td>\n",
       "      <td>00:00:25</td>\n",
       "      <td>MX (Mexico)</td>\n",
       "    </tr>\n",
       "    <tr>\n",
       "      <th>21861</th>\n",
       "      <td>La poponcesa</td>\n",
       "      <td>2022-01-15 07:24:40+00:00</td>\n",
       "      <td>0 days 00:00:01</td>\n",
       "      <td>Autoplayed: user action: None;</td>\n",
       "      <td>Dark: Season 3: Deja-vu (Episode 1)</td>\n",
       "      <td>NaN</td>\n",
       "      <td>Samsung 2017 Kant-M UHD TV Smart TV</td>\n",
       "      <td>00:00:05</td>\n",
       "      <td>Not latest view</td>\n",
       "      <td>MX (Mexico)</td>\n",
       "    </tr>\n",
       "    <tr>\n",
       "      <th>4396</th>\n",
       "      <td>El cacas</td>\n",
       "      <td>2024-04-04 09:46:25+00:00</td>\n",
       "      <td>0 days 00:18:05</td>\n",
       "      <td>NaN</td>\n",
       "      <td>Friends: Temporada 9: Monica canta (Capítulo 13)</td>\n",
       "      <td>NaN</td>\n",
       "      <td>DefaultWidevineAndroidTablets</td>\n",
       "      <td>00:24:29</td>\n",
       "      <td>Not latest view</td>\n",
       "      <td>IE (Ireland)</td>\n",
       "    </tr>\n",
       "    <tr>\n",
       "      <th>7746</th>\n",
       "      <td>El cacas</td>\n",
       "      <td>2020-06-25 21:48:56+00:00</td>\n",
       "      <td>0 days 00:32:32</td>\n",
       "      <td>NaN</td>\n",
       "      <td>Dark: Temporada 1: Dobles vidas (Capítulo 4)</td>\n",
       "      <td>NaN</td>\n",
       "      <td>Chrome PC (Cadmium)</td>\n",
       "      <td>00:44:28</td>\n",
       "      <td>00:44:28</td>\n",
       "      <td>IE (Ireland)</td>\n",
       "    </tr>\n",
       "    <tr>\n",
       "      <th>19525</th>\n",
       "      <td>La cacampeona</td>\n",
       "      <td>2018-08-22 13:45:00+00:00</td>\n",
       "      <td>0 days 00:00:03</td>\n",
       "      <td>NaN</td>\n",
       "      <td>That '70s Show: Temporada 2: Red monta en cóle...</td>\n",
       "      <td>NaN</td>\n",
       "      <td>Android DefaultWidevineL3Tablet Android Tablet</td>\n",
       "      <td>00:00:03</td>\n",
       "      <td>Not latest view</td>\n",
       "      <td>MX (Mexico)</td>\n",
       "    </tr>\n",
       "    <tr>\n",
       "      <th>12166</th>\n",
       "      <td>El cacas</td>\n",
       "      <td>2015-06-16 22:36:57+00:00</td>\n",
       "      <td>0 days 00:42:49</td>\n",
       "      <td>NaN</td>\n",
       "      <td>Lost: Temporada 1: Corazones y mentes (Capítul...</td>\n",
       "      <td>NaN</td>\n",
       "      <td>Mobile</td>\n",
       "      <td>00:42:51</td>\n",
       "      <td>00:42:51</td>\n",
       "      <td>MX (Mexico)</td>\n",
       "    </tr>\n",
       "    <tr>\n",
       "      <th>3770</th>\n",
       "      <td>Alz</td>\n",
       "      <td>2015-05-31 15:53:52+00:00</td>\n",
       "      <td>0 days 00:43:31</td>\n",
       "      <td>NaN</td>\n",
       "      <td>Once Upon a Time: Temporada 3: There's No Plac...</td>\n",
       "      <td>NaN</td>\n",
       "      <td>Microsoft Xbox 360</td>\n",
       "      <td>00:43:55</td>\n",
       "      <td>00:43:55</td>\n",
       "      <td>MX (Mexico)</td>\n",
       "    </tr>\n",
       "    <tr>\n",
       "      <th>6040</th>\n",
       "      <td>El cacas</td>\n",
       "      <td>2022-07-05 19:21:34+00:00</td>\n",
       "      <td>0 days 00:19:19</td>\n",
       "      <td>NaN</td>\n",
       "      <td>The Office (EE. UU.): Temporada 5: Frame Toby ...</td>\n",
       "      <td>NaN</td>\n",
       "      <td>Samsung 2013 MStar X12 Smart TV</td>\n",
       "      <td>00:21:31</td>\n",
       "      <td>00:21:31</td>\n",
       "      <td>IE (Ireland)</td>\n",
       "    </tr>\n",
       "    <tr>\n",
       "      <th>5923</th>\n",
       "      <td>El cacas</td>\n",
       "      <td>2022-08-05 20:02:36+00:00</td>\n",
       "      <td>0 days 00:35:28</td>\n",
       "      <td>NaN</td>\n",
       "      <td>The Office (EE. UU.): Temporada 7: Adiós, Mich...</td>\n",
       "      <td>NaN</td>\n",
       "      <td>Samsung 2013 MStar X12 Smart TV</td>\n",
       "      <td>00:36:24</td>\n",
       "      <td>00:36:24</td>\n",
       "      <td>IE (Ireland)</td>\n",
       "    </tr>\n",
       "  </tbody>\n",
       "</table>\n",
       "</div>"
      ],
      "text/plain": [
       "        Profile Name                Start Time        Duration  \\\n",
       "5007        El cacas 2023-08-13 18:04:21+00:00 0 days 00:00:09   \n",
       "16046         Heimer 2020-09-10 03:12:37+00:00 0 days 00:00:25   \n",
       "21861   La poponcesa 2022-01-15 07:24:40+00:00 0 days 00:00:01   \n",
       "4396        El cacas 2024-04-04 09:46:25+00:00 0 days 00:18:05   \n",
       "7746        El cacas 2020-06-25 21:48:56+00:00 0 days 00:32:32   \n",
       "19525  La cacampeona 2018-08-22 13:45:00+00:00 0 days 00:00:03   \n",
       "12166       El cacas 2015-06-16 22:36:57+00:00 0 days 00:42:49   \n",
       "3770             Alz 2015-05-31 15:53:52+00:00 0 days 00:43:31   \n",
       "6040        El cacas 2022-07-05 19:21:34+00:00 0 days 00:19:19   \n",
       "5923        El cacas 2022-08-05 20:02:36+00:00 0 days 00:35:28   \n",
       "\n",
       "                                   Attributes  \\\n",
       "5007          Autoplayed: user action: None;    \n",
       "16046  Autoplayed: user action: Unspecified;    \n",
       "21861         Autoplayed: user action: None;    \n",
       "4396                                      NaN   \n",
       "7746                                      NaN   \n",
       "19525                                     NaN   \n",
       "12166                                     NaN   \n",
       "3770                                      NaN   \n",
       "6040                                      NaN   \n",
       "5923                                      NaN   \n",
       "\n",
       "                                                   Title  \\\n",
       "5007                       Source Code_hook_primary_16x9   \n",
       "16046                                Orgullo y prejuicio   \n",
       "21861                Dark: Season 3: Deja-vu (Episode 1)   \n",
       "4396    Friends: Temporada 9: Monica canta (Capítulo 13)   \n",
       "7746        Dark: Temporada 1: Dobles vidas (Capítulo 4)   \n",
       "19525  That '70s Show: Temporada 2: Red monta en cóle...   \n",
       "12166  Lost: Temporada 1: Corazones y mentes (Capítul...   \n",
       "3770   Once Upon a Time: Temporada 3: There's No Plac...   \n",
       "6040   The Office (EE. UU.): Temporada 5: Frame Toby ...   \n",
       "5923   The Office (EE. UU.): Temporada 7: Adiós, Mich...   \n",
       "\n",
       "      Supplemental Video Type                                     Device Type  \\\n",
       "5007                     HOOK                             Chrome PC (Cadmium)   \n",
       "16046                     NaN             Samsung 2017 Kant-M UHD TV Smart TV   \n",
       "21861                     NaN             Samsung 2017 Kant-M UHD TV Smart TV   \n",
       "4396                      NaN                   DefaultWidevineAndroidTablets   \n",
       "7746                      NaN                             Chrome PC (Cadmium)   \n",
       "19525                     NaN  Android DefaultWidevineL3Tablet Android Tablet   \n",
       "12166                     NaN                                          Mobile   \n",
       "3770                      NaN                              Microsoft Xbox 360   \n",
       "6040                      NaN                 Samsung 2013 MStar X12 Smart TV   \n",
       "5923                      NaN                 Samsung 2013 MStar X12 Smart TV   \n",
       "\n",
       "       Bookmark  Latest Bookmark       Country  \n",
       "5007   00:00:09  Not latest view  IE (Ireland)  \n",
       "16046  00:00:25         00:00:25   MX (Mexico)  \n",
       "21861  00:00:05  Not latest view   MX (Mexico)  \n",
       "4396   00:24:29  Not latest view  IE (Ireland)  \n",
       "7746   00:44:28         00:44:28  IE (Ireland)  \n",
       "19525  00:00:03  Not latest view   MX (Mexico)  \n",
       "12166  00:42:51         00:42:51   MX (Mexico)  \n",
       "3770   00:43:55         00:43:55   MX (Mexico)  \n",
       "6040   00:21:31         00:21:31  IE (Ireland)  \n",
       "5923   00:36:24         00:36:24  IE (Ireland)  "
      ]
     },
     "execution_count": 11,
     "metadata": {},
     "output_type": "execute_result"
    }
   ],
   "source": [
    "df.sample(n=10)"
   ]
  },
  {
   "cell_type": "code",
   "execution_count": 12,
   "id": "49c33589",
   "metadata": {},
   "outputs": [
    {
     "data": {
      "text/plain": [
       "El cacas         9087\n",
       "Heimer           4836\n",
       "Alz              3920\n",
       "La poponcesa     3195\n",
       "La cacampeona    2832\n",
       "Name: Profile Name, dtype: int64"
      ]
     },
     "execution_count": 12,
     "metadata": {},
     "output_type": "execute_result"
    }
   ],
   "source": [
    "df['Profile Name'].value_counts()"
   ]
  },
  {
   "cell_type": "code",
   "execution_count": 13,
   "id": "3b82c5dc",
   "metadata": {},
   "outputs": [
    {
     "data": {
      "image/png": "[encoded data removed]",
      "text/plain": [
       "<Figure size 640x480 with 1 Axes>"
      ]
     },
     "metadata": {},
     "output_type": "display_data"
    }
   ],
   "source": [
    "%matplotlib inline\n",
    "import matplotlib\n",
    "import matplotlib.pyplot as plt\n",
    "df['Profile Name'].value_counts().plot(kind='bar')\n",
    "plt.show()"
   ]
  },
  {
   "cell_type": "code",
   "execution_count": 14,
   "id": "8dcecb4a",
   "metadata": {},
   "outputs": [
    {
     "data": {
      "text/plain": [
       "Timedelta('358 days 14:36:21')"
      ]
     },
     "execution_count": 14,
     "metadata": {},
     "output_type": "execute_result"
    }
   ],
   "source": [
    "df['Duration'].sum()"
   ]
  },
  {
   "cell_type": "code",
   "execution_count": 15,
   "id": "4803aa23",
   "metadata": {},
   "outputs": [
    {
     "data": {
      "text/html": [
       "<div>\n",
       "<style scoped>\n",
       "    .dataframe tbody tr th:only-of-type {\n",
       "        vertical-align: middle;\n",
       "    }\n",
       "\n",
       "    .dataframe tbody tr th {\n",
       "        vertical-align: top;\n",
       "    }\n",
       "\n",
       "    .dataframe thead th {\n",
       "        text-align: right;\n",
       "    }\n",
       "</style>\n",
       "<table border=\"1\" class=\"dataframe\">\n",
       "  <thead>\n",
       "    <tr style=\"text-align: right;\">\n",
       "      <th></th>\n",
       "      <th>Profile Name</th>\n",
       "      <th>Start Time</th>\n",
       "      <th>Duration</th>\n",
       "      <th>Attributes</th>\n",
       "      <th>Title</th>\n",
       "      <th>Supplemental Video Type</th>\n",
       "      <th>Device Type</th>\n",
       "      <th>Bookmark</th>\n",
       "      <th>Latest Bookmark</th>\n",
       "      <th>Country</th>\n",
       "    </tr>\n",
       "  </thead>\n",
       "  <tbody>\n",
       "    <tr>\n",
       "      <th>13006</th>\n",
       "      <td>El cacas</td>\n",
       "      <td>2015-01-07 00:24:46+00:00</td>\n",
       "      <td>0 days 00:00:42</td>\n",
       "      <td>NaN</td>\n",
       "      <td>Niñera a prueba de balas</td>\n",
       "      <td>NaN</td>\n",
       "      <td>Microsoft Xbox 360</td>\n",
       "      <td>00:00:44</td>\n",
       "      <td>Not latest view</td>\n",
       "      <td>MX (Mexico)</td>\n",
       "    </tr>\n",
       "    <tr>\n",
       "      <th>13005</th>\n",
       "      <td>El cacas</td>\n",
       "      <td>2015-01-07 00:25:37+00:00</td>\n",
       "      <td>0 days 00:00:30</td>\n",
       "      <td>NaN</td>\n",
       "      <td>Niñera a prueba de balas</td>\n",
       "      <td>NaN</td>\n",
       "      <td>Microsoft Xbox 360</td>\n",
       "      <td>00:01:16</td>\n",
       "      <td>00:01:16</td>\n",
       "      <td>MX (Mexico)</td>\n",
       "    </tr>\n",
       "    <tr>\n",
       "      <th>13004</th>\n",
       "      <td>El cacas</td>\n",
       "      <td>2015-01-07 05:23:01+00:00</td>\n",
       "      <td>0 days 00:02:32</td>\n",
       "      <td>NaN</td>\n",
       "      <td>Top Gear: Serie 16: Capítulo 1 (Capítulo 1)</td>\n",
       "      <td>NaN</td>\n",
       "      <td>Microsoft Xbox 360</td>\n",
       "      <td>00:02:32</td>\n",
       "      <td>00:02:32</td>\n",
       "      <td>MX (Mexico)</td>\n",
       "    </tr>\n",
       "    <tr>\n",
       "      <th>13003</th>\n",
       "      <td>El cacas</td>\n",
       "      <td>2015-01-07 06:18:13+00:00</td>\n",
       "      <td>0 days 00:00:38</td>\n",
       "      <td>NaN</td>\n",
       "      <td>Comando especial</td>\n",
       "      <td>NaN</td>\n",
       "      <td>Microsoft Xbox 360</td>\n",
       "      <td>00:00:40</td>\n",
       "      <td>Not latest view</td>\n",
       "      <td>MX (Mexico)</td>\n",
       "    </tr>\n",
       "    <tr>\n",
       "      <th>13002</th>\n",
       "      <td>El cacas</td>\n",
       "      <td>2015-01-07 06:19:00+00:00</td>\n",
       "      <td>0 days 00:11:12</td>\n",
       "      <td>NaN</td>\n",
       "      <td>Comando especial</td>\n",
       "      <td>NaN</td>\n",
       "      <td>Microsoft Xbox 360</td>\n",
       "      <td>00:11:50</td>\n",
       "      <td>Not latest view</td>\n",
       "      <td>MX (Mexico)</td>\n",
       "    </tr>\n",
       "    <tr>\n",
       "      <th>...</th>\n",
       "      <td>...</td>\n",
       "      <td>...</td>\n",
       "      <td>...</td>\n",
       "      <td>...</td>\n",
       "      <td>...</td>\n",
       "      <td>...</td>\n",
       "      <td>...</td>\n",
       "      <td>...</td>\n",
       "      <td>...</td>\n",
       "      <td>...</td>\n",
       "    </tr>\n",
       "    <tr>\n",
       "      <th>3920</th>\n",
       "      <td>El cacas</td>\n",
       "      <td>2024-10-16 06:28:47+00:00</td>\n",
       "      <td>0 days 00:09:36</td>\n",
       "      <td>NaN</td>\n",
       "      <td>The Office (EE. UU.): Temporada 2: “Take Your ...</td>\n",
       "      <td>NaN</td>\n",
       "      <td>Android DefaultWidevineL3Phone Android Phone</td>\n",
       "      <td>00:09:52</td>\n",
       "      <td>00:09:52</td>\n",
       "      <td>IE (Ireland)</td>\n",
       "    </tr>\n",
       "    <tr>\n",
       "      <th>13010</th>\n",
       "      <td>Heimer</td>\n",
       "      <td>2024-10-16 14:07:28+00:00</td>\n",
       "      <td>0 days 00:00:05</td>\n",
       "      <td>Autoplayed: user action: None;</td>\n",
       "      <td>The Envoys: Season 1_hook_primary_16x9</td>\n",
       "      <td>HOOK</td>\n",
       "      <td>LG 2019 RTK K5Lp Standard UHD TV Smart TV</td>\n",
       "      <td>00:00:05</td>\n",
       "      <td>00:00:05</td>\n",
       "      <td>MX (Mexico)</td>\n",
       "    </tr>\n",
       "    <tr>\n",
       "      <th>13009</th>\n",
       "      <td>Heimer</td>\n",
       "      <td>2024-10-16 14:07:49+00:00</td>\n",
       "      <td>0 days 00:00:08</td>\n",
       "      <td>Autoplayed: user action: None;</td>\n",
       "      <td>Temporada 1 (Clip): El secreto del río</td>\n",
       "      <td>HOOK</td>\n",
       "      <td>LG 2019 RTK K5Lp Standard UHD TV Smart TV</td>\n",
       "      <td>00:00:08</td>\n",
       "      <td>00:00:08</td>\n",
       "      <td>MX (Mexico)</td>\n",
       "    </tr>\n",
       "    <tr>\n",
       "      <th>13008</th>\n",
       "      <td>Heimer</td>\n",
       "      <td>2024-10-16 14:08:10+00:00</td>\n",
       "      <td>0 days 00:00:21</td>\n",
       "      <td>Autoplayed: user action: None;</td>\n",
       "      <td>Temporada 3 (Clip 2): Bridgerton</td>\n",
       "      <td>HOOK</td>\n",
       "      <td>LG 2019 RTK K5Lp Standard UHD TV Smart TV</td>\n",
       "      <td>00:00:22</td>\n",
       "      <td>00:00:22</td>\n",
       "      <td>MX (Mexico)</td>\n",
       "    </tr>\n",
       "    <tr>\n",
       "      <th>13007</th>\n",
       "      <td>Heimer</td>\n",
       "      <td>2024-10-16 14:10:16+00:00</td>\n",
       "      <td>0 days 00:00:04</td>\n",
       "      <td>Autoplayed: user action: None;</td>\n",
       "      <td>Luna sin miel (Clip): Luna sin miel</td>\n",
       "      <td>HOOK</td>\n",
       "      <td>LG 2019 RTK K5Lp Standard UHD TV Smart TV</td>\n",
       "      <td>00:00:04</td>\n",
       "      <td>00:00:04</td>\n",
       "      <td>MX (Mexico)</td>\n",
       "    </tr>\n",
       "  </tbody>\n",
       "</table>\n",
       "<p>23870 rows × 10 columns</p>\n",
       "</div>"
      ],
      "text/plain": [
       "      Profile Name                Start Time        Duration  \\\n",
       "13006     El cacas 2015-01-07 00:24:46+00:00 0 days 00:00:42   \n",
       "13005     El cacas 2015-01-07 00:25:37+00:00 0 days 00:00:30   \n",
       "13004     El cacas 2015-01-07 05:23:01+00:00 0 days 00:02:32   \n",
       "13003     El cacas 2015-01-07 06:18:13+00:00 0 days 00:00:38   \n",
       "13002     El cacas 2015-01-07 06:19:00+00:00 0 days 00:11:12   \n",
       "...            ...                       ...             ...   \n",
       "3920      El cacas 2024-10-16 06:28:47+00:00 0 days 00:09:36   \n",
       "13010       Heimer 2024-10-16 14:07:28+00:00 0 days 00:00:05   \n",
       "13009       Heimer 2024-10-16 14:07:49+00:00 0 days 00:00:08   \n",
       "13008       Heimer 2024-10-16 14:08:10+00:00 0 days 00:00:21   \n",
       "13007       Heimer 2024-10-16 14:10:16+00:00 0 days 00:00:04   \n",
       "\n",
       "                            Attributes  \\\n",
       "13006                              NaN   \n",
       "13005                              NaN   \n",
       "13004                              NaN   \n",
       "13003                              NaN   \n",
       "13002                              NaN   \n",
       "...                                ...   \n",
       "3920                               NaN   \n",
       "13010  Autoplayed: user action: None;    \n",
       "13009  Autoplayed: user action: None;    \n",
       "13008  Autoplayed: user action: None;    \n",
       "13007  Autoplayed: user action: None;    \n",
       "\n",
       "                                                   Title  \\\n",
       "13006                           Niñera a prueba de balas   \n",
       "13005                           Niñera a prueba de balas   \n",
       "13004        Top Gear: Serie 16: Capítulo 1 (Capítulo 1)   \n",
       "13003                                   Comando especial   \n",
       "13002                                   Comando especial   \n",
       "...                                                  ...   \n",
       "3920   The Office (EE. UU.): Temporada 2: “Take Your ...   \n",
       "13010             The Envoys: Season 1_hook_primary_16x9   \n",
       "13009             Temporada 1 (Clip): El secreto del río   \n",
       "13008                   Temporada 3 (Clip 2): Bridgerton   \n",
       "13007                Luna sin miel (Clip): Luna sin miel   \n",
       "\n",
       "      Supplemental Video Type                                   Device Type  \\\n",
       "13006                     NaN                            Microsoft Xbox 360   \n",
       "13005                     NaN                            Microsoft Xbox 360   \n",
       "13004                     NaN                            Microsoft Xbox 360   \n",
       "13003                     NaN                            Microsoft Xbox 360   \n",
       "13002                     NaN                            Microsoft Xbox 360   \n",
       "...                       ...                                           ...   \n",
       "3920                      NaN  Android DefaultWidevineL3Phone Android Phone   \n",
       "13010                    HOOK     LG 2019 RTK K5Lp Standard UHD TV Smart TV   \n",
       "13009                    HOOK     LG 2019 RTK K5Lp Standard UHD TV Smart TV   \n",
       "13008                    HOOK     LG 2019 RTK K5Lp Standard UHD TV Smart TV   \n",
       "13007                    HOOK     LG 2019 RTK K5Lp Standard UHD TV Smart TV   \n",
       "\n",
       "       Bookmark  Latest Bookmark       Country  \n",
       "13006  00:00:44  Not latest view   MX (Mexico)  \n",
       "13005  00:01:16         00:01:16   MX (Mexico)  \n",
       "13004  00:02:32         00:02:32   MX (Mexico)  \n",
       "13003  00:00:40  Not latest view   MX (Mexico)  \n",
       "13002  00:11:50  Not latest view   MX (Mexico)  \n",
       "...         ...              ...           ...  \n",
       "3920   00:09:52         00:09:52  IE (Ireland)  \n",
       "13010  00:00:05         00:00:05   MX (Mexico)  \n",
       "13009  00:00:08         00:00:08   MX (Mexico)  \n",
       "13008  00:00:22         00:00:22   MX (Mexico)  \n",
       "13007  00:00:04         00:00:04   MX (Mexico)  \n",
       "\n",
       "[23870 rows x 10 columns]"
      ]
     },
     "execution_count": 15,
     "metadata": {},
     "output_type": "execute_result"
    }
   ],
   "source": [
    "df.sort_values('Start Time')"
   ]
  },
  {
   "cell_type": "code",
   "execution_count": 16,
   "id": "acf840df",
   "metadata": {},
   "outputs": [
    {
     "data": {
      "text/plain": [
       "Timedelta('113 days 08:50:19')"
      ]
     },
     "execution_count": 16,
     "metadata": {},
     "output_type": "execute_result"
    }
   ],
   "source": [
    "df.loc[df['Profile Name']=='El cacas','Duration'].sum()"
   ]
  },
  {
   "cell_type": "code",
   "execution_count": 17,
   "id": "9f3ec32a",
   "metadata": {},
   "outputs": [
    {
     "data": {
      "text/plain": [
       "Timedelta('55 days 05:00:37')"
      ]
     },
     "execution_count": 17,
     "metadata": {},
     "output_type": "execute_result"
    }
   ],
   "source": [
    "df.loc[df['Profile Name']=='La poponcesa','Duration'].sum()"
   ]
  },
  {
   "cell_type": "code",
   "execution_count": 18,
   "id": "3b152724",
   "metadata": {},
   "outputs": [
    {
     "data": {
      "text/plain": [
       "Timedelta('41 days 17:01:03')"
      ]
     },
     "execution_count": 18,
     "metadata": {},
     "output_type": "execute_result"
    }
   ],
   "source": [
    "df.loc[df['Profile Name']=='La cacampeona','Duration'].sum()"
   ]
  },
  {
   "cell_type": "code",
   "execution_count": 19,
   "id": "8f74674a",
   "metadata": {},
   "outputs": [
    {
     "data": {
      "text/plain": [
       "9795019.0"
      ]
     },
     "execution_count": 19,
     "metadata": {},
     "output_type": "execute_result"
    }
   ],
   "source": [
    "df.loc[df['Profile Name']=='El cacas','Duration'].astype('timedelta64[s]').sum()"
   ]
  },
  {
   "cell_type": "code",
   "execution_count": 20,
   "id": "3766f1fd",
   "metadata": {},
   "outputs": [
    {
     "data": {
      "text/plain": [
       "{'El cacas': 9795019.0,\n",
       " 'La poponcesa': 4770037.0,\n",
       " 'La cacampeona': 3603663.0,\n",
       " 'Alz': 5992917.0,\n",
       " 'Heimer': 6822145.0}"
      ]
     },
     "execution_count": 20,
     "metadata": {},
     "output_type": "execute_result"
    }
   ],
   "source": [
    "viewTime = {}\n",
    "viewTime.update({'El cacas': df.loc[df['Profile Name']=='El cacas','Duration'].astype('timedelta64[s]').sum()})\n",
    "viewTime.update({'La poponcesa': df.loc[df['Profile Name']=='La poponcesa','Duration'].astype('timedelta64[s]').sum()})\n",
    "viewTime.update({'La cacampeona': df.loc[df['Profile Name']=='La cacampeona','Duration'].astype('timedelta64[s]').sum()})\n",
    "viewTime.update({'Alz': df.loc[df['Profile Name']=='Alz','Duration'].astype('timedelta64[s]').sum()})\n",
    "viewTime.update({'Heimer': df.loc[df['Profile Name']=='Heimer','Duration'].astype('timedelta64[s]').sum()})\n",
    "viewTime"
   ]
  },
  {
   "cell_type": "code",
   "execution_count": 21,
   "id": "a1a158d2",
   "metadata": {},
   "outputs": [
    {
     "data": {
      "image/png": "[encoded data removed]",
      "text/plain": [
       "<Figure size 640x480 with 1 Axes>"
      ]
     },
     "metadata": {},
     "output_type": "display_data"
    }
   ],
   "source": [
    "%matplotlib inline\n",
    "import matplotlib\n",
    "import matplotlib.pyplot as plt\n",
    "plt.bar(*zip(*viewTime.items()))\n",
    "plt.show()"
   ]
  },
  {
   "cell_type": "code",
   "execution_count": 22,
   "id": "8d13127e",
   "metadata": {},
   "outputs": [
    {
     "data": {
      "text/plain": [
       "El cacas         9087\n",
       "Heimer           4836\n",
       "Alz              3920\n",
       "La poponcesa     3195\n",
       "La cacampeona    2832\n",
       "Name: Profile Name, dtype: int64"
      ]
     },
     "execution_count": 22,
     "metadata": {},
     "output_type": "execute_result"
    }
   ],
   "source": [
    "df['Profile Name'].value_counts()"
   ]
  },
  {
   "cell_type": "code",
   "execution_count": 23,
   "id": "83839dbb",
   "metadata": {},
   "outputs": [
    {
     "data": {
      "text/plain": [
       "Timedelta('0 days 00:17:57.915593705')"
      ]
     },
     "execution_count": 23,
     "metadata": {},
     "output_type": "execute_result"
    }
   ],
   "source": [
    "df.loc[df['Profile Name']=='El cacas','Duration'].sum()/9087"
   ]
  },
  {
   "cell_type": "code",
   "execution_count": 24,
   "id": "3e120ce4",
   "metadata": {},
   "outputs": [
    {
     "data": {
      "text/plain": [
       "Timedelta('0 days 00:23:30.699958643')"
      ]
     },
     "execution_count": 24,
     "metadata": {},
     "output_type": "execute_result"
    }
   ],
   "source": [
    "df.loc[df['Profile Name']=='Heimer','Duration'].sum()/4836"
   ]
  },
  {
   "cell_type": "code",
   "execution_count": 25,
   "id": "d546e79a",
   "metadata": {},
   "outputs": [
    {
     "data": {
      "text/plain": [
       "Timedelta('0 days 00:25:28.805357142')"
      ]
     },
     "execution_count": 25,
     "metadata": {},
     "output_type": "execute_result"
    }
   ],
   "source": [
    "df.loc[df['Profile Name']=='Alz','Duration'].sum()/3920"
   ]
  },
  {
   "cell_type": "code",
   "execution_count": 26,
   "id": "f7879ec7",
   "metadata": {},
   "outputs": [
    {
     "data": {
      "text/plain": [
       "Timedelta('0 days 00:24:52.969327073')"
      ]
     },
     "execution_count": 26,
     "metadata": {},
     "output_type": "execute_result"
    }
   ],
   "source": [
    "df.loc[df['Profile Name']=='La poponcesa','Duration'].sum()/3195"
   ]
  },
  {
   "cell_type": "code",
   "execution_count": 27,
   "id": "cb1199cf",
   "metadata": {},
   "outputs": [
    {
     "data": {
      "text/plain": [
       "Timedelta('0 days 00:21:12.479872881')"
      ]
     },
     "execution_count": 27,
     "metadata": {},
     "output_type": "execute_result"
    }
   ],
   "source": [
    "df.loc[df['Profile Name']=='La cacampeona','Duration'].sum()/2832"
   ]
  },
  {
   "cell_type": "code",
   "execution_count": 28,
   "id": "bdf360af",
   "metadata": {},
   "outputs": [
    {
     "data": {
      "text/plain": [
       "HOOK              655\n",
       "TRAILER           165\n",
       "TEASER_TRAILER     35\n",
       "CINEMAGRAPH         8\n",
       "PROMOTIONAL         7\n",
       "RECAP               2\n",
       "BONUS_VIDEO         1\n",
       "Name: Supplemental Video Type, dtype: int64"
      ]
     },
     "execution_count": 28,
     "metadata": {},
     "output_type": "execute_result"
    }
   ],
   "source": [
    "df['Supplemental Video Type'].value_counts()"
   ]
  },
  {
   "cell_type": "code",
   "execution_count": 29,
   "id": "aca492e6",
   "metadata": {},
   "outputs": [],
   "source": [
    "df = df.loc[df['Supplemental Video Type'].isnull()]"
   ]
  },
  {
   "cell_type": "code",
   "execution_count": 30,
   "id": "e9dd1138",
   "metadata": {},
   "outputs": [
    {
     "data": {
      "text/plain": [
       "El cacas         8528\n",
       "Heimer           4770\n",
       "Alz              3716\n",
       "La poponcesa     3151\n",
       "La cacampeona    2832\n",
       "Name: Profile Name, dtype: int64"
      ]
     },
     "execution_count": 30,
     "metadata": {},
     "output_type": "execute_result"
    }
   ],
   "source": [
    "df['Profile Name'].value_counts()"
   ]
  },
  {
   "cell_type": "code",
   "execution_count": 31,
   "id": "88121da2",
   "metadata": {},
   "outputs": [
    {
     "data": {
      "text/plain": [
       "Timedelta('0 days 00:19:07.572936210')"
      ]
     },
     "execution_count": 31,
     "metadata": {},
     "output_type": "execute_result"
    }
   ],
   "source": [
    "df.loc[df['Profile Name']=='El cacas','Duration'].sum()/8528"
   ]
  },
  {
   "cell_type": "code",
   "execution_count": 32,
   "id": "42d9fa9a",
   "metadata": {},
   "outputs": [
    {
     "data": {
      "text/plain": [
       "Timedelta('0 days 00:23:49.691404612')"
      ]
     },
     "execution_count": 32,
     "metadata": {},
     "output_type": "execute_result"
    }
   ],
   "source": [
    "df.loc[df['Profile Name']=='Heimer','Duration'].sum()/4770"
   ]
  },
  {
   "cell_type": "code",
   "execution_count": 33,
   "id": "8c4ad3e4",
   "metadata": {},
   "outputs": [
    {
     "data": {
      "text/plain": [
       "Timedelta('0 days 00:26:51.298708288')"
      ]
     },
     "execution_count": 33,
     "metadata": {},
     "output_type": "execute_result"
    }
   ],
   "source": [
    "df.loc[df['Profile Name']=='Alz','Duration'].sum()/3716"
   ]
  },
  {
   "cell_type": "code",
   "execution_count": 34,
   "id": "23408aea",
   "metadata": {},
   "outputs": [
    {
     "data": {
      "text/plain": [
       "Timedelta('0 days 00:25:13.364328784')"
      ]
     },
     "execution_count": 34,
     "metadata": {},
     "output_type": "execute_result"
    }
   ],
   "source": [
    "df.loc[df['Profile Name']=='La poponcesa','Duration'].sum()/3151"
   ]
  },
  {
   "cell_type": "code",
   "execution_count": 35,
   "id": "0068fc11",
   "metadata": {},
   "outputs": [
    {
     "data": {
      "text/plain": [
       "Timedelta('0 days 00:21:12.479872881')"
      ]
     },
     "execution_count": 35,
     "metadata": {},
     "output_type": "execute_result"
    }
   ],
   "source": [
    "df.loc[df['Profile Name']=='La cacampeona','Duration'].sum()/2832"
   ]
  },
  {
   "cell_type": "code",
   "execution_count": 36,
   "id": "e9a4da59",
   "metadata": {},
   "outputs": [
    {
     "data": {
      "text/plain": [
       "Samsung 2017 Kant-M UHD TV Smart TV                                9162\n",
       "Microsoft Xbox 360                                                 2897\n",
       "Chrome PC (Cadmium)                                                2329\n",
       "Mobile                                                             2023\n",
       "DefaultWidevineAndroidPhone                                        1740\n",
       "Android DefaultWidevineL3Tablet Android Tablet                      818\n",
       "Android DefaultWidevineL3Phone Android Phone                        809\n",
       "Edge OSS - Windows (Cadmium)                                        626\n",
       "iPhone 5S GSM                                                       432\n",
       "DefaultWidevineAndroidTablets                                       423\n",
       "Samsung 2013 MStar X12 Smart TV                                     420\n",
       "Google Chromecast V3 Streaming Stick                                401\n",
       "LG 2019 RTK K5Lp Standard UHD TV Smart TV                           265\n",
       "Netflix Windows App - Cadmium Windows Mobile                        253\n",
       "Edge (Cadmium)                                                      228\n",
       "Android DefaultWidevineL3Phone Android Phone (samsung_SM-G532M)      76\n",
       "Samsung CE 2020 Kant-S2 DTV Smart TV                                 23\n",
       "Sony PS4                                                             23\n",
       "LG 2015 MTK 8553 BD                                                  22\n",
       "2013 Sony BD players AX Series                                       17\n",
       "PC                                                                   10\n",
       "Name: Device Type, dtype: int64"
      ]
     },
     "execution_count": 36,
     "metadata": {},
     "output_type": "execute_result"
    }
   ],
   "source": [
    "df['Device Type'].value_counts()"
   ]
  },
  {
   "cell_type": "code",
   "execution_count": 37,
   "id": "6ab8b497",
   "metadata": {},
   "outputs": [
    {
     "data": {
      "image/png": "[encoded data removed]",
      "text/plain": [
       "<Figure size 640x480 with 1 Axes>"
      ]
     },
     "metadata": {},
     "output_type": "display_data"
    }
   ],
   "source": [
    "df['Device Type'].value_counts().plot(kind='bar')\n",
    "plt.show()"
   ]
  },
  {
   "cell_type": "code",
   "execution_count": 38,
   "id": "53dcc14c",
   "metadata": {},
   "outputs": [],
   "source": [
    "df_ruben = df.loc[df['Profile Name'] == 'El cacas']"
   ]
  },
  {
   "cell_type": "code",
   "execution_count": 39,
   "id": "f9420d1d",
   "metadata": {},
   "outputs": [
    {
     "data": {
      "text/plain": [
       "Chrome PC (Cadmium)                                                2027\n",
       "DefaultWidevineAndroidPhone                                        1732\n",
       "Mobile                                                             1233\n",
       "Microsoft Xbox 360                                                  654\n",
       "Android DefaultWidevineL3Phone Android Phone                        520\n",
       "iPhone 5S GSM                                                       432\n",
       "DefaultWidevineAndroidTablets                                       423\n",
       "Samsung 2013 MStar X12 Smart TV                                     420\n",
       "Samsung 2017 Kant-M UHD TV Smart TV                                 268\n",
       "Netflix Windows App - Cadmium Windows Mobile                        253\n",
       "Google Chromecast V3 Streaming Stick                                244\n",
       "Edge (Cadmium)                                                      228\n",
       "Edge OSS - Windows (Cadmium)                                         35\n",
       "Samsung CE 2020 Kant-S2 DTV Smart TV                                 23\n",
       "2013 Sony BD players AX Series                                       17\n",
       "Android DefaultWidevineL3Phone Android Phone (samsung_SM-G532M)      10\n",
       "LG 2019 RTK K5Lp Standard UHD TV Smart TV                             6\n",
       "LG 2015 MTK 8553 BD                                                   3\n",
       "Name: Device Type, dtype: int64"
      ]
     },
     "execution_count": 39,
     "metadata": {},
     "output_type": "execute_result"
    }
   ],
   "source": [
    "df_ruben['Device Type'].value_counts()"
   ]
  },
  {
   "cell_type": "code",
   "execution_count": 40,
   "id": "99886b83",
   "metadata": {},
   "outputs": [
    {
     "data": {
      "image/png": "[encoded data removed]",
      "text/plain": [
       "<Figure size 640x480 with 1 Axes>"
      ]
     },
     "metadata": {},
     "output_type": "display_data"
    }
   ],
   "source": [
    "df_ruben['Device Type'].value_counts().plot(kind = 'bar')\n",
    "plt.show()"
   ]
  },
  {
   "cell_type": "code",
   "execution_count": 41,
   "id": "895550e2",
   "metadata": {},
   "outputs": [],
   "source": [
    "# What was the most popular/watched title? In the family"
   ]
  },
  {
   "cell_type": "code",
   "execution_count": 42,
   "id": "1d23ba68",
   "metadata": {},
   "outputs": [
    {
     "data": {
      "text/plain": [
       "Shrek                                                                       29\n",
       "La provocación                                                              29\n",
       "Conocerás al hombre de tus sueños                                           19\n",
       "Shrek 2                                                                     18\n",
       "Madagascar                                                                  17\n",
       "Shrek the Third                                                             17\n",
       "Dark: Temporada 1: Secretos (Capítulo 1)                                    16\n",
       "Sofía Niño de Rivera: Selección Natural                                     16\n",
       "Solteras                                                                    15\n",
       "Las chicas del cable: Temporada 1: Capítulo 1: Los sueños (Capítulo 1)      15\n",
       "Taylor Swift reputation Stadium Tour                                        15\n",
       "Velvet: Temporada 1: Alas de mariposa (Capítulo 1)                          15\n",
       "Vecinos invasores                                                           15\n",
       "Black Mirror: Temporada 3: Caída en picada (Capítulo 1)                     14\n",
       "Luis Miguel - La Serie: Temporada 1: Cuando calienta el sol (Capítulo 1)    14\n",
       "Gilmore Girls: Un nuevo año: Miniserie: Invierno (Capítulo 1)               14\n",
       "Friends: Temporada 3: Ross y Rachel se dan un respiro (Capítulo 15)         13\n",
       "What Our Fathers Did: A Nazi Legacy                                         13\n",
       "Modern Family: Temporada 1: Piloto (Capítulo 1)                             13\n",
       "Gilmore Girls: Un nuevo año: Miniserie: Primavera (Capítulo 2)              13\n",
       "Name: Title, dtype: int64"
      ]
     },
     "execution_count": 42,
     "metadata": {},
     "output_type": "execute_result"
    }
   ],
   "source": [
    "df['Title'].value_counts().head(20)"
   ]
  },
  {
   "cell_type": "code",
   "execution_count": 43,
   "id": "3b60f884",
   "metadata": {},
   "outputs": [],
   "source": [
    "# Was there any title watched by all Profiles?"
   ]
  },
  {
   "cell_type": "code",
   "execution_count": 44,
   "id": "bd4b430e",
   "metadata": {},
   "outputs": [],
   "source": [
    "all_users = df['Profile Name'].unique()"
   ]
  },
  {
   "cell_type": "code",
   "execution_count": 45,
   "id": "e98db535",
   "metadata": {},
   "outputs": [
    {
     "data": {
      "text/plain": [
       "0                                  Apolo 13: Supervivencia\n",
       "1                                 Asesino: Misión venganza\n",
       "2                                 Asesino: Misión venganza\n",
       "3                                 Asesino: Misión venganza\n",
       "4                                             El Sindicato\n",
       "                               ...                        \n",
       "23865    Fuller House: Season 4: President Fuller (Epis...\n",
       "23866    Fuller House: Season 4: Angels' Night Out (Epi...\n",
       "23867        Fuller House: Season 4: No Escape (Episode 5)\n",
       "23868          Fuller House: Season 4: Ghosted (Episode 4)\n",
       "23869      Fuller House: Season 4: Oh My Santa (Episode 1)\n",
       "Name: Title, Length: 22997, dtype: object"
      ]
     },
     "execution_count": 45,
     "metadata": {},
     "output_type": "execute_result"
    }
   ],
   "source": [
    "df[df['Profile Name'].isin(df['Profile Name'].unique())]['Title']"
   ]
  },
  {
   "cell_type": "code",
   "execution_count": 51,
   "id": "27c38e6f",
   "metadata": {},
   "outputs": [],
   "source": [
    "movies_watched_by_users = df.groupby(['Title'])['Profile Name'].unique()"
   ]
  },
  {
   "cell_type": "code",
   "execution_count": 52,
   "id": "bd2885ee",
   "metadata": {},
   "outputs": [
    {
     "name": "stdout",
     "output_type": "stream",
     "text": [
      "Title\n",
      "#Alive                                                               [La poponcesa]\n",
      "#LadyRancho                                                                [Heimer]\n",
      "(500) días con ella                                                      [El cacas]\n",
      "(Des)encanto: Parte 1: El lado oscuro de la princesa (Capítulo 3)        [El cacas]\n",
      "(Des)encanto: Parte 1: La caída de Dreamland (Capítulo 10)               [El cacas]\n",
      "                                                                          ...      \n",
      "Élite: Temporada 2: 20 horas desaparecido (Capítulo 1)                     [Heimer]\n",
      "Élite: Temporada 2: 34 horas desaparecido (Capítulo 2)                     [Heimer]\n",
      "Élite: Temporada 2: 36 horas desaparecido (Capítulo 3)                     [Heimer]\n",
      "Érase una vez en México                                                    [Heimer]\n",
      "Último vuelo a Abuya                                                     [El cacas]\n",
      "Name: Profile Name, Length: 10068, dtype: object\n"
     ]
    }
   ],
   "source": [
    "print(movies_watched_by_users)"
   ]
  },
  {
   "cell_type": "code",
   "execution_count": null,
   "id": "de05b3aa",
   "metadata": {},
   "outputs": [],
   "source": []
  },
  {
   "cell_type": "code",
   "execution_count": null,
   "id": "6966fec5",
   "metadata": {},
   "outputs": [],
   "source": []
  },
  {
   "cell_type": "code",
   "execution_count": 68,
   "id": "e949635d",
   "metadata": {},
   "outputs": [],
   "source": [
    "movies_all_users_watched = movies_watched_by_users[movies_watched_by_users.apply(lambda x: set(x) == set(all_users))]"
   ]
  },
  {
   "cell_type": "code",
   "execution_count": 69,
   "id": "a7ad51b2",
   "metadata": {},
   "outputs": [
    {
     "name": "stdout",
     "output_type": "stream",
     "text": [
      "Title\n",
      "Franco Escamilla: Por la anécdota    [Alz, El cacas, Heimer, La cacampeona, La popo...\n",
      "Hotel Transylvania                   [Alz, El cacas, Heimer, La cacampeona, La popo...\n",
      "Name: Profile Name, dtype: object\n"
     ]
    }
   ],
   "source": [
    "print(movies_all_users_watched)"
   ]
  },
  {
   "cell_type": "code",
   "execution_count": null,
   "id": "21e09422",
   "metadata": {},
   "outputs": [],
   "source": [
    "# Can we recommend a title for one Profile based on the common watching history of other Profiles?"
   ]
  }
 ],
 "metadata": {
  "kernelspec": {
   "display_name": "Python 3 (ipykernel)",
   "language": "python",
   "name": "python3"
  },
  "language_info": {
   "codemirror_mode": {
    "name": "ipython",
    "version": 3
   },
   "file_extension": ".py",
   "mimetype": "text/x-python",
   "name": "python",
   "nbconvert_exporter": "python",
   "pygments_lexer": "ipython3",
   "version": "3.11.4"
  }
 },
 "nbformat": 4,
 "nbformat_minor": 5
}
